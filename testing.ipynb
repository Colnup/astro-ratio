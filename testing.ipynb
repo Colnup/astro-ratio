{
 "cells": [
  {
   "cell_type": "markdown",
   "metadata": {},
   "source": [
    "# Python Astro Photo processing\n",
    "\n",
    "Welcome to this project about processing astro photos with Python. This project aims to correct errors in photographs taken near a source of light pollution, such as a city, and to improve the quality of the image."
   ]
  },
  {
   "cell_type": "code",
   "execution_count": 43,
   "metadata": {},
   "outputs": [],
   "source": [
    "import cv2\n",
    "import numpy as np\n",
    "import matplotlib\n",
    "import matplotlib.pyplot as plt"
   ]
  },
  {
   "cell_type": "code",
   "execution_count": 38,
   "metadata": {},
   "outputs": [],
   "source": [
    "# Chargement de l'image\n",
    "\n",
    "INPUT_FILE = 'img/input/barnard_stacked_gradient.png'\n",
    "\n",
    "img = cv2.imread(INPUT_FILE)"
   ]
  },
  {
   "cell_type": "code",
   "execution_count": null,
   "metadata": {},
   "outputs": [],
   "source": [
    "# Method 1 : Value threshold (HSV)\n",
    "\n",
    "# Advantages: Easy to implement, fast, works well in most cases\n",
    "# Disadvantages: Can remove bright pixels in the image\n",
    "\n",
    "OUTPUT_FILE = 'img/output/barnard_stacked_gradient_threshold.png'\n",
    "\n",
    "# ----------------------------\n",
    "\n",
    "mask = cv2.cvtColor(img, cv2.COLOR_BGR2HSV)\n",
    "# Filter out brightest pixels\n",
    "mask = cv2.inRange(mask, (0, 0, 0), (255, 255, 200))\n",
    "\n",
    "# Substract mask from image\n",
    "mask = cv2.bitwise_not(mask)\n",
    "res = cv2.bitwise_and(img, img, mask=mask)\n",
    "\n",
    "\n",
    "# Compare original and result\n",
    "plt.imshow(np.hstack((img, res)))\n",
    "\n",
    "\n",
    "# save img to output folder\n",
    "cv2.imwrite('img/output/barnard_stacked_gradient_value_clip.png', res)"
   ]
  },
  {
   "cell_type": "code",
   "execution_count": null,
   "metadata": {},
   "outputs": [],
   "source": [
    "# Method 2 : Edge detection surface removal\n",
    "\n",
    "# Advantages: \n",
    "# Disadvantages:\n",
    "\n",
    "# ----------------------------\n",
    "\n"
   ]
  },
  {
   "cell_type": "code",
   "execution_count": 59,
   "metadata": {},
   "outputs": [
    {
     "ename": "ValueError",
     "evalue": "object too deep for desired array",
     "output_type": "error",
     "traceback": [
      "\u001b[0;31m---------------------------------------------------------------------------\u001b[0m",
      "\u001b[0;31mValueError\u001b[0m                                Traceback (most recent call last)",
      "Cell \u001b[0;32mIn[59], line 22\u001b[0m\n\u001b[1;32m     19\u001b[0m     colors\u001b[38;5;241m.\u001b[39mappend(img[\u001b[38;5;28mint\u001b[39m(point[\u001b[38;5;241m1\u001b[39m]), \u001b[38;5;28mint\u001b[39m(point[\u001b[38;5;241m0\u001b[39m])])\n\u001b[1;32m     21\u001b[0m \u001b[38;5;66;03m# Interpolate for whole image\u001b[39;00m\n\u001b[0;32m---> 22\u001b[0m res \u001b[38;5;241m=\u001b[39m \u001b[43mnp\u001b[49m\u001b[38;5;241;43m.\u001b[39;49m\u001b[43minterp\u001b[49m\u001b[43m(\u001b[49m\u001b[43mimg\u001b[49m\u001b[43m,\u001b[49m\u001b[43m \u001b[49m\u001b[43m[\u001b[49m\u001b[43mcolors\u001b[49m\u001b[43m[\u001b[49m\u001b[38;5;241;43m0\u001b[39;49m\u001b[43m]\u001b[49m\u001b[43m,\u001b[49m\u001b[43m \u001b[49m\u001b[43mcolors\u001b[49m\u001b[43m[\u001b[49m\u001b[38;5;241;43m1\u001b[39;49m\u001b[43m]\u001b[49m\u001b[43m]\u001b[49m\u001b[43m,\u001b[49m\u001b[43m \u001b[49m\u001b[43m[\u001b[49m\u001b[38;5;241;43m0\u001b[39;49m\u001b[43m,\u001b[49m\u001b[43m \u001b[49m\u001b[38;5;241;43m255\u001b[39;49m\u001b[43m]\u001b[49m\u001b[43m)\u001b[49m\n\u001b[1;32m     24\u001b[0m \u001b[38;5;66;03m# Convert res to rgb\u001b[39;00m\n\u001b[1;32m     25\u001b[0m res \u001b[38;5;241m=\u001b[39m cv2\u001b[38;5;241m.\u001b[39mcvtColor(res\u001b[38;5;241m.\u001b[39mastype(np\u001b[38;5;241m.\u001b[39muint8), cv2\u001b[38;5;241m.\u001b[39mCOLOR_BGR2RGB)\n",
      "File \u001b[0;32m~/Documents/Ecole/BUT/S3-4/sae-c2/.venv/lib/python3.11/site-packages/numpy/lib/function_base.py:1599\u001b[0m, in \u001b[0;36minterp\u001b[0;34m(x, xp, fp, left, right, period)\u001b[0m\n\u001b[1;32m   1596\u001b[0m     xp \u001b[38;5;241m=\u001b[39m np\u001b[38;5;241m.\u001b[39mconcatenate((xp[\u001b[38;5;241m-\u001b[39m\u001b[38;5;241m1\u001b[39m:]\u001b[38;5;241m-\u001b[39mperiod, xp, xp[\u001b[38;5;241m0\u001b[39m:\u001b[38;5;241m1\u001b[39m]\u001b[38;5;241m+\u001b[39mperiod))\n\u001b[1;32m   1597\u001b[0m     fp \u001b[38;5;241m=\u001b[39m np\u001b[38;5;241m.\u001b[39mconcatenate((fp[\u001b[38;5;241m-\u001b[39m\u001b[38;5;241m1\u001b[39m:], fp, fp[\u001b[38;5;241m0\u001b[39m:\u001b[38;5;241m1\u001b[39m]))\n\u001b[0;32m-> 1599\u001b[0m \u001b[38;5;28;01mreturn\u001b[39;00m interp_func(x, xp, fp, left, right)\n",
      "\u001b[0;31mValueError\u001b[0m: object too deep for desired array"
     ]
    }
   ],
   "source": [
    "# Method 3 : Manual point input (interpolation)\n",
    "\n",
    "# Advantages: Quick\n",
    "# Disadvantages: Not accurate, manual input\n",
    "\n",
    "OUTPUT_FILE = 'img/output/barnard_stacked_gradient_manual.png'\n",
    "matplotlib.use('TkAgg')\n",
    "\n",
    "# ----------------------------\n",
    "\n",
    "\n",
    "plt.imshow(img)\n",
    "plt.show()\n",
    "points = plt.ginput(4)\n",
    "# print(points)\n",
    "plt.close()\n",
    "\n",
    "# Get color of each point\n",
    "colors = []\n",
    "for point in points:\n",
    "    colors.append(img[int(point[1]), int(point[0])])\n",
    "\n",
    "# Interpolate for whole image\n",
    "res = img.copy()\n",
    "for i in range(img.shape[0]):\n",
    "    for j in range(img.shape[1]):\n",
    "        for k in range(3):\n",
    "            res[i, j, k] = np.interp(img[i, j, k], [colors[0][k], colors[1][k]], [0, 255])\n",
    "\n",
    "# Convert res colorspace\n",
    "res = cv2.cvtColor(res, cv2.COLOR_BGR2HSV)\n",
    "\n",
    "\n",
    "# save img to output folder\n",
    "cv2.imwrite(OUTPUT_FILE, res)"
   ]
  }
 ],
 "metadata": {
  "kernelspec": {
   "display_name": ".venv",
   "language": "python",
   "name": "python3"
  },
  "language_info": {
   "codemirror_mode": {
    "name": "ipython",
    "version": 3
   },
   "file_extension": ".py",
   "mimetype": "text/x-python",
   "name": "python",
   "nbconvert_exporter": "python",
   "pygments_lexer": "ipython3",
   "version": "3.11.6"
  }
 },
 "nbformat": 4,
 "nbformat_minor": 2
}
